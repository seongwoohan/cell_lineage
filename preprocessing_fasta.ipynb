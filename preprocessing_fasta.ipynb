{
 "cells": [
  {
   "cell_type": "code",
   "execution_count": 13,
   "metadata": {},
   "outputs": [],
   "source": [
    "import sys\n",
    "import os\n",
    "import pandas as pd\n",
    "import matplotlib.pyplot as plt\n",
    "from Bio import SeqIO"
   ]
  },
  {
   "cell_type": "markdown",
   "metadata": {},
   "source": [
    "## 1. Extract only barcode sequence in fasta file"
   ]
  },
  {
   "cell_type": "code",
   "execution_count": 69,
   "metadata": {},
   "outputs": [],
   "source": [
    "def barcode_seq_list():\n",
    "    \n",
    "    # data location in your computer\n",
    "    source = \"/Users/seongwoohan/desktop/sra_data.fasta.txt\"\n",
    "    \n",
    "    # open and read textfile\n",
    "    seq = open(source, \"r\")    \n",
    "    \n",
    "    # read only the odd-numbered rows in the file \n",
    "    # extract even-numbered rows in the file\n",
    "    fastaLines = seq.readlines()[::2]\n",
    "    \n",
    "    # make a barcode sequecne list in prior before adding every odd-numebered rows in the file\n",
    "    barcodeList = []\n",
    "    \n",
    "    # read each line in the file\n",
    "    for line1 in fastaLines:\n",
    "        \n",
    "        # split within the odd-numbered rows to only see the barcode\n",
    "        num_head_seq = line1.split(':')[0].split(' ')[1]\n",
    "        \n",
    "        # add up all the odd-numbered rows inside the list\n",
    "        barcodeList.append(num_head_seq)  \n",
    "        \n",
    "    return barcodeList\n",
    "\n",
    "#barcode_seq_list()"
   ]
  },
  {
   "cell_type": "markdown",
   "metadata": {},
   "source": [
    "### 1.1 Check if the fasta file works without any error"
   ]
  },
  {
   "cell_type": "code",
   "execution_count": 62,
   "metadata": {},
   "outputs": [],
   "source": [
    "def check():\n",
    "    source = \"/Users/seongwoohan/desktop/sra_data.fasta_cut.txt\"\n",
    "    seq = open(source, \"r\")    \n",
    "    fastaLines = seq.readlines()[::2]\n",
    "    barcodeList = []\n",
    "    i=0\n",
    "    for line1 in fastaLines:\n",
    "        i+=1\n",
    "        try:\n",
    "            num_head_seq = line1.split(':')[0].split(' ')[1]\n",
    "            barcodeList.append(num_head_seq) \n",
    "        except:\n",
    "            print(str(i))\n",
    "            print(line1[:5000])\n",
    "    \n",
    "    print(barcodeList)\n",
    "\n",
    "#check()"
   ]
  },
  {
   "cell_type": "markdown",
   "metadata": {},
   "source": [
    "## 2. Extract only gene sequence in fasta file"
   ]
  },
  {
   "cell_type": "code",
   "execution_count": 70,
   "metadata": {},
   "outputs": [],
   "source": [
    "def gene_seq_list():\n",
    "    \n",
    "    # data location in your computer\n",
    "    source = \"/Users/seongwoohan/desktop/sra_data.fasta.txt\"\n",
    "    \n",
    "    # open and read textfile\n",
    "    seq = open(source, \"r\")  \n",
    "    \n",
    "    # read each line in textfile\n",
    "    fastaLines = seq.readlines()\n",
    "    \n",
    "    # make a gene sequecne list in prior before adding every even-numebered rows in the file\n",
    "    geneList = []\n",
    "    \n",
    "    # read only the even-numbered rows in the file    \n",
    "    for i in range(0, len(fastaLines)):\n",
    "        if (i%2 != 0):\n",
    "            \n",
    "            # read even-numbered rows in the file \n",
    "            # rsrtip() extracts the space at the end of each line\n",
    "            num_gene_seq = (fastaLines[i]).rstrip()\n",
    "            \n",
    "            # add up all the even-numbered rows inside the list\n",
    "            geneList.append(num_gene_seq)\n",
    "\n",
    "    return geneList\n",
    "    \n",
    "#gene_seq_list()"
   ]
  },
  {
   "cell_type": "markdown",
   "metadata": {},
   "source": [
    "## 3. Map barcode sequence with gene sequence"
   ]
  },
  {
   "cell_type": "code",
   "execution_count": 73,
   "metadata": {
    "scrolled": true
   },
   "outputs": [],
   "source": [
    "def mapping():\n",
    "    \n",
    "    # call barcode sequence list \n",
    "    barcodeList = barcode_seq_list()\n",
    "    \n",
    "    # call gene sequence list \n",
    "    geneList = gene_seq_list()\n",
    "    \n",
    "    # group the data as dictionary \n",
    "    df = pd.DataFrame({'barcode':barcodeList, 'gene':geneList}) \n",
    "    \n",
    "    # Extract the unique barcode and extracxt the overlapping ones\n",
    "    uniqueBarcodeList = df['barcode'].unique().tolist()\n",
    "    \n",
    "    # Count how many gene sequences are grouped within each barcode\n",
    "    for uniqueBarcode in uniqueBarcodeList:\n",
    "        uniqueDF = df[df['barcode'] == uniqueBarcode]\n",
    "        genes = uniqueDF['gene'].tolist()\n",
    "        print('{0}:{1}, {1}'.format(uniqueBarcode, len(genes), genes))\n",
    "\n",
    "#mapping()"
   ]
  },
  {
   "cell_type": "markdown",
   "metadata": {},
   "source": [
    "## 4. Appendix code"
   ]
  },
  {
   "cell_type": "code",
   "execution_count": null,
   "metadata": {
    "scrolled": true
   },
   "outputs": [],
   "source": [
    "# count how many unique barcodes in fasta file\n",
    "def count():\n",
    "    source = \"/Users/seongwoohan/desktop/head-gene.txt\"\n",
    "    seq = open(source, \"r\")    \n",
    "    fastaLines = seq.readlines()\n",
    "    i=0\n",
    "    for line1 in fastaLines:\n",
    "        i+=1\n",
    "        print(str(i) + ' ' + line1)\n",
    "\n",
    "#count()"
   ]
  },
  {
   "cell_type": "code",
   "execution_count": null,
   "metadata": {},
   "outputs": [],
   "source": [
    "# combine two text files\n",
    "def combine():\n",
    "    gel1 = open(\"/Users/seongwoohan/Desktop/gel_barcode1.txt\", \"r\")\n",
    "    gel2 = open(\"/Users/seongwoohan/Desktop/gel_barcode2.txt\", \"r\")\n",
    "\n",
    "    lines1 = gel1.readlines()\n",
    "    lines2 = gel2.readlines()\n",
    "\n",
    "    for line1 in lines1:   \n",
    "        for line2 in lines2:\n",
    "            print(line1.strip() + '-' + line2.strip())\n",
    "\n",
    "#combine()"
   ]
  },
  {
   "cell_type": "code",
   "execution_count": 72,
   "metadata": {},
   "outputs": [],
   "source": [
    "def match():\n",
    "    \n",
    "    # see if fasta file has barcode2 sequence\n",
    "    gel2 = open(\"/Users/seongwoohan/Desktop/gel_barcode2.txt\", \"r\")\n",
    "    seq = open(\"/Users/seongwoohan/desktop/sra_data.fasta_cut.txt\", \"r\")    \n",
    "\n",
    "    barcode = gel2.readlines()\n",
    "    fastaLines = seq.readlines()[::2]\n",
    "\n",
    "    count = 0\n",
    "    for line2 in barcode: \n",
    "        count +=1\n",
    "        for line1 in fastaLines:\n",
    "            if line2.rstrip() in line1:\n",
    "                print(line1.split(':')[0] + ' corresponds to line #' + str(count) \n",
    "                      + ' in barcode2.txt: ' +line2.rstrip())\n",
    "            \n",
    "#match()"
   ]
  },
  {
   "cell_type": "code",
   "execution_count": 68,
   "metadata": {},
   "outputs": [
    {
     "name": "stdout",
     "output_type": "stream",
     "text": [
      "sequence is TATTCTTGTGGGTGCGCTATCGAGCTCAAGCTTCGGACAGCAGTATCATCGTCAGTCGACAGAGTCGACAGCAGTATCTGCTGTCATGGAGTCGACTGCACGACAGTCGACCTATGGAGTCGCGAGCGCTATGAGCGACTATGGGAATTCTCGACCTCGAGACAAATGGCAGCCCGGGGGATCCAAACTCGAGAAAGCTAGCAAACCATGGTACGATGATGATCCAGACATGATAAGATACATTGATGAGTTTGGACAAACCACAACTAGA and length is 271\n"
     ]
    }
   ],
   "source": [
    "# Useful for cojnting each nucleotides\n",
    "seq1 = \"TATTCTTGTGGGTGCGCTATCGAGCTCAAGCTTCGGACAGCAGTATCATCGTCAGTCGACAGAGTCGACAGCAGTATCTGCTGTCATGGAGTCGACTGCACGACAGTCGACCTATGGAGTCGCGAGCGCTATGAGCGACTATGGGAATTCTCGACCTCGAGACAAATGGCAGCCCGGGGGATCCAAACTCGAGAAAGCTAGCAAACCATGGTACGATGATGATCCAGACATGATAAGATACATTGATGAGTTTGGACAAACCACAACTAGA\"\n",
    "seq1.count('G')\n",
    "dna_length = len(seq1)\n",
    "print(\"sequence is \" + seq1 + \" and length is \" + str(dna_length))"
   ]
  }
 ],
 "metadata": {
  "kernelspec": {
   "display_name": "Python 3",
   "language": "python",
   "name": "python3"
  },
  "language_info": {
   "codemirror_mode": {
    "name": "ipython",
    "version": 3
   },
   "file_extension": ".py",
   "mimetype": "text/x-python",
   "name": "python",
   "nbconvert_exporter": "python",
   "pygments_lexer": "ipython3",
   "version": "3.7.3"
  }
 },
 "nbformat": 4,
 "nbformat_minor": 2
}
